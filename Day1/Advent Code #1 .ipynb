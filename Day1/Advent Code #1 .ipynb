{
 "cells": [
  {
   "cell_type": "code",
   "execution_count": 320,
   "id": "0854438e",
   "metadata": {},
   "outputs": [
    {
     "data": {
      "text/html": [
       "<style>.container { width:75% !important; }</style>"
      ],
      "text/plain": [
       "<IPython.core.display.HTML object>"
      ]
     },
     "metadata": {},
     "output_type": "display_data"
    }
   ],
   "source": [
    "from IPython.display import display, HTML\n",
    "display(HTML(\"<style>.container { width:75% !important; }</style>\"))"
   ]
  },
  {
   "cell_type": "markdown",
   "id": "7bfcc91d",
   "metadata": {},
   "source": [
    "### Part 1"
   ]
  },
  {
   "cell_type": "code",
   "execution_count": null,
   "id": "31ecd5d9",
   "metadata": {},
   "outputs": [],
   "source": [
    "import re"
   ]
  },
  {
   "cell_type": "code",
   "execution_count": 285,
   "id": "99c67f42",
   "metadata": {},
   "outputs": [],
   "source": [
    "f = open(\"input.txt.\", \"r\")\n",
    "list_ = [x for x in f]\n",
    "list_ = [x.replace('\\n','') for x in list_]"
   ]
  },
  {
   "cell_type": "code",
   "execution_count": 77,
   "id": "350220b4",
   "metadata": {},
   "outputs": [
    {
     "name": "stdout",
     "output_type": "stream",
     "text": [
      "54708\n"
     ]
    }
   ],
   "source": [
    "all_together_list = []\n",
    "for string in list_:\n",
    "    list_of_numbers = [x for x in string if x.isdigit()]\n",
    "    new_list = []\n",
    "    \n",
    "    if len(list_of_numbers) == 1:\n",
    "        list_of_numbers.append(list_of_numbers[0])\n",
    "        all_together_list.append(int(''.join(list_of_numbers)))\n",
    "    else:\n",
    "        new_list.append([list_of_numbers[0], list_of_numbers[-1]])\n",
    "        all_together_list.append(int(''.join(new_list[0])))\n",
    "        \n",
    "print(sum(all_together_list))"
   ]
  },
  {
   "cell_type": "markdown",
   "id": "59935902",
   "metadata": {},
   "source": [
    "### Part 2 "
   ]
  },
  {
   "cell_type": "code",
   "execution_count": 291,
   "id": "48c43764",
   "metadata": {},
   "outputs": [],
   "source": [
    "# list_ = ['dttwonezbgmcseven5seven', 'eightwothree']\n",
    "# list_ = ['two1nine',\n",
    "#  'eightwothree',\n",
    "#  'abcone2threexyz',\n",
    "#  'xtwone3four',\n",
    "#  '4nineeightseven2']"
   ]
  },
  {
   "cell_type": "code",
   "execution_count": 334,
   "id": "5c884919",
   "metadata": {},
   "outputs": [
    {
     "name": "stdout",
     "output_type": "stream",
     "text": [
      "____\n",
      "[]\n",
      "[]\n",
      "[]\n",
      "[]\n",
      "[]\n",
      "['two']\n",
      "['two']\n",
      "['two', 'one']\n",
      "['two', 'one']\n",
      "['two', 'one']\n",
      "['two', 'one']\n",
      "['two', 'one']\n",
      "['two', 'one']\n",
      "['two', 'one']\n",
      "['two', 'one']\n",
      "['two', 'one']\n",
      "['two', 'one']\n",
      "['two', 'one', 'seven']\n",
      "['two', 'one', 'seven', '5']\n",
      "['two', 'one', 'seven', '5']\n",
      "['two', 'one', 'seven', '5']\n",
      "['two', 'one', 'seven', '5']\n",
      "['two', 'one', 'seven', '5']\n",
      "['two', 'one', 'seven', '5']\n",
      "____\n",
      "[]\n",
      "[]\n",
      "[]\n",
      "[]\n",
      "[]\n",
      "['eight']\n",
      "['eight']\n",
      "['eight', 'two']\n",
      "['eight', 'two']\n",
      "['eight', 'two']\n",
      "['eight', 'two']\n",
      "['eight', 'two']\n",
      "['eight', 'two', 'three']\n"
     ]
    }
   ],
   "source": [
    "# Dict for changing words into numbers\n",
    "list_digits = {\n",
    "    'one': '1',\n",
    "    'two': '2',\n",
    "    'three': '3',\n",
    "    'four': '4',\n",
    "    'five': '5',\n",
    "    'six': '6',\n",
    "    'seven': '7',\n",
    "    'eight': '8',\n",
    "    'nine': '9'\n",
    "}\n",
    "\n",
    "# Putting all together (words and numbers)\n",
    "all_together_list = []\n",
    "\n",
    "# Iterate through all words\n",
    "for string in list_:\n",
    "    list_numbers = []\n",
    "    temp = ''\n",
    "    index_number = 1\n",
    "    \n",
    "    print('____')\n",
    "\n",
    "    # Iterate through the characters of the string\n",
    "    for i in range(len(string)+1):\n",
    "#         check_num = ''\n",
    "        word = string[:i]\n",
    "\n",
    "        try:\n",
    "            if i == 0: # Passing this index in order to come to index 1 and substract it with 1 \n",
    "                pass\n",
    "            else:\n",
    "                index_number = i - 1 # Start from 0 index \n",
    "                check_num = string[index_number] # Getting only one char to check if it is a number\n",
    "\n",
    "        except:\n",
    "            pass\n",
    "        try:\n",
    "            for key,value in list_digits.items():\n",
    "                if key in word and key not in list_numbers: # Check if the word from the dictionaire is in the word of the string and if it is not duplicate\n",
    "                    list_numbers.append(key)\n",
    "                elif check_num.isdigit() and check_num not in list_numbers: # Check if the char is number and not in the list\n",
    "                    list_numbers.append(check_num)\n",
    "                    \n",
    "        except:\n",
    "            pass\n",
    "    \n",
    "        print(list_numbers)\n",
    "    # converting the words into numbers\n",
    "    for i in range(len(list_numbers)):\n",
    "        try:\n",
    "            list_numbers[i] = list_digits[list_numbers[i]]\n",
    "        except:\n",
    "            pass\n",
    "        \n",
    "    # Taking the first and the last digit in order to make the sum \n",
    "    first_digit = list_numbers[0]\n",
    "    last_digit = list_numbers[-1]\n",
    "    \n",
    "    # Joining and converting the first and the last digit\n",
    "    all_together_list.append(int(''.join([first_digit, last_digit])))"
   ]
  },
  {
   "cell_type": "code",
   "execution_count": 327,
   "id": "d18e2a64",
   "metadata": {},
   "outputs": [
    {
     "data": {
      "text/plain": [
       "['dttwonezbgmcseven5seven', 'eightwothree']"
      ]
     },
     "execution_count": 327,
     "metadata": {},
     "output_type": "execute_result"
    }
   ],
   "source": [
    "list_"
   ]
  },
  {
   "cell_type": "code",
   "execution_count": 329,
   "id": "6296fde0",
   "metadata": {},
   "outputs": [
    {
     "data": {
      "text/plain": [
       "[27, 88]"
      ]
     },
     "execution_count": 329,
     "metadata": {},
     "output_type": "execute_result"
    }
   ],
   "source": [
    "all_together_list"
   ]
  },
  {
   "cell_type": "code",
   "execution_count": 324,
   "id": "ebc69a53",
   "metadata": {},
   "outputs": [
    {
     "name": "stdout",
     "output_type": "stream",
     "text": [
      "\n",
      "e\n",
      "ei\n",
      "eig\n",
      "eigh\n",
      "eight\n",
      "eightw\n",
      "eightwo\n",
      "eightwot\n",
      "eightwoth\n",
      "eightwothr\n",
      "eightwothre\n",
      "eightwothree\n"
     ]
    }
   ],
   "source": [
    "for i in range(len(string)+1):\n",
    "#         check_num = ''\n",
    "    word = string[:i]\n",
    "    \n",
    "    print(word)"
   ]
  },
  {
   "cell_type": "code",
   "execution_count": null,
   "id": "6780a7b6",
   "metadata": {},
   "outputs": [],
   "source": []
  }
 ],
 "metadata": {
  "kernelspec": {
   "display_name": "Python 3 (ipykernel)",
   "language": "python",
   "name": "python3"
  },
  "language_info": {
   "codemirror_mode": {
    "name": "ipython",
    "version": 3
   },
   "file_extension": ".py",
   "mimetype": "text/x-python",
   "name": "python",
   "nbconvert_exporter": "python",
   "pygments_lexer": "ipython3",
   "version": "3.10.9"
  }
 },
 "nbformat": 4,
 "nbformat_minor": 5
}
